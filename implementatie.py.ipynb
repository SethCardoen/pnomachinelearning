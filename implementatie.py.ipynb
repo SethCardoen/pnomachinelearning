{
 "cells": [
  {
   "cell_type": "code",
   "execution_count": 3,
   "id": "182c16bd",
   "metadata": {},
   "outputs": [],
   "source": [
    "from procedures import *\n",
    "import sympy as sp"
   ]
  },
  {
   "cell_type": "code",
   "execution_count": 5,
   "id": "9e25480a",
   "metadata": {},
   "outputs": [
    {
     "name": "stdout",
     "output_type": "stream",
     "text": [
      "[0.         0.05263158 0.10526316 0.15789474 0.21052632 0.26315789\n",
      " 0.31578947 0.36842105 0.42105263 0.47368421 0.52631579 0.57894737\n",
      " 0.63157895 0.68421053 0.73684211 0.78947368 0.84210526 0.89473684\n",
      " 0.94736842 1.        ] [ 0.08778339  2.00497829  2.77803225 -0.64459587  0.20958027  3.2718583\n",
      "  2.67951888  1.78267072  2.66427728  0.02303898  1.74962703  5.0637241\n",
      "  2.23855581  4.62732811  5.26889916  7.79692284  5.93883939  7.95964349\n",
      "  9.69569839  8.7436434 ]\n"
     ]
    }
   ],
   "source": [
    "x = sp.symbols('x')\n",
    "def f(x): return 10 ** x\n",
    "\n",
    "xs = xsample(20)\n",
    "ys = ysample(xs, f)\n",
    "\n",
    "print(xs, ys)"
   ]
  }
 ],
 "metadata": {
  "kernelspec": {
   "display_name": "Python 3 (ipykernel)",
   "language": "python",
   "name": "python3"
  },
  "language_info": {
   "codemirror_mode": {
    "name": "ipython",
    "version": 3
   },
   "file_extension": ".py",
   "mimetype": "text/x-python",
   "name": "python",
   "nbconvert_exporter": "python",
   "pygments_lexer": "ipython3",
   "version": "3.8.8"
  }
 },
 "nbformat": 4,
 "nbformat_minor": 5
}
